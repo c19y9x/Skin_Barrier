{
 "cells": [
  {
   "attachments": {},
   "cell_type": "markdown",
   "metadata": {},
   "source": [
    "导入包"
   ]
  },
  {
   "cell_type": "code",
   "execution_count": 1,
   "metadata": {},
   "outputs": [],
   "source": [
    "from PIL import Image\n",
    "import numpy as np\n",
    "import os"
   ]
  },
  {
   "attachments": {},
   "cell_type": "markdown",
   "metadata": {},
   "source": [
    "定义一个求三阶颜色矩的函数"
   ]
  },
  {
   "cell_type": "code",
   "execution_count": 2,
   "metadata": {},
   "outputs": [],
   "source": [
    "def var(x=None):\n",
    "    mid = np.mean(((x - x.mean()) ** 3))\n",
    "    return np.sign(mid) * abs(mid) ** (1/3)"
   ]
  },
  {
   "attachments": {},
   "cell_type": "markdown",
   "metadata": {},
   "source": [
    "批量求一个文件夹下所有图片的各阶颜色矩： "
   ]
  },
  {
   "cell_type": "code",
   "execution_count": 3,
   "metadata": {},
   "outputs": [],
   "source": [
    "def getimagedata(path):\n",
    "    filename = os.listdir(path)\n",
    "    n = len(filename)\n",
    "    data = np.zeros([n,9])\n",
    "    for i in range(n):\n",
    "        img = Image.open(path +'\\\\'+ filename[i])\n",
    "        M,N = img.size\n",
    "        r,g,b = img.split()\n",
    "        rd = np.asarray(r)\n",
    "        gd = np.asarray(g)\n",
    "        bd = np.asarray(b)\n",
    "        data[i,0] = rd.mean()\n",
    "        data[i,1] = gd.mean()\n",
    "        data[i,2] = bd.mean()\n",
    "        data[i,3] = rd.std()\n",
    "        data[i,4] = gd.std()\n",
    "        data[i,5] = bd.std()\n",
    "        data[i,6] = var(rd)\n",
    "        data[i,7] = var(gd)\n",
    "        data[i,8] = var(bd)\n",
    "    return data"
   ]
  },
  {
   "attachments": {},
   "cell_type": "markdown",
   "metadata": {},
   "source": [
    "计算"
   ]
  },
  {
   "cell_type": "code",
   "execution_count": 4,
   "metadata": {},
   "outputs": [
    {
     "name": "stdout",
     "output_type": "stream",
     "text": [
      "[[152.03601237 111.1608431  126.20287109  20.3620553   17.38086303\n",
      "   18.72170284 -11.5272832  -11.80787003 -12.30249499]\n",
      " [155.30792643 110.69962891 126.08540039  23.41796955  17.8919265\n",
      "   19.70300849 -14.01554202 -14.1402546  -14.99052654]\n",
      " [153.48984701 110.53783203 126.77099609  23.00720069  18.96339284\n",
      "   20.61757944 -13.90416747 -14.68474955 -15.43977909]\n",
      " [157.2616862  110.74553385 127.38523112  23.67203479  17.31994311\n",
      "   19.49982852 -13.86313177 -13.79745018 -15.35520423]\n",
      " [157.18287109 108.08245117 124.97570312  24.39032215  15.1597911\n",
      "   17.85099064 -17.67336676 -13.21617698 -15.29461127]]\n"
     ]
    }
   ],
   "source": [
    "a = getimagedata(\"1209\")\n",
    "print(a)"
   ]
  }
 ],
 "metadata": {
  "kernelspec": {
   "display_name": "opencv",
   "language": "python",
   "name": "python3"
  },
  "language_info": {
   "codemirror_mode": {
    "name": "ipython",
    "version": 3
   },
   "file_extension": ".py",
   "mimetype": "text/x-python",
   "name": "python",
   "nbconvert_exporter": "python",
   "pygments_lexer": "ipython3",
   "version": "3.6.2 |Continuum Analytics, Inc.| (default, Jul 20 2017, 12:30:02) [MSC v.1900 64 bit (AMD64)]"
  },
  "orig_nbformat": 4,
  "vscode": {
   "interpreter": {
    "hash": "938d8ad7f6a2738e3cd66642e2e184ebf030d6494c6a03c6bd52f11b77f647a5"
   }
  }
 },
 "nbformat": 4,
 "nbformat_minor": 2
}
